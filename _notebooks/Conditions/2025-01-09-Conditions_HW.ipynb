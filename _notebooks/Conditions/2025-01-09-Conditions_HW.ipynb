{
 "cells": [
  {
   "cell_type": "raw",
   "metadata": {
    "vscode": {
     "languageId": "raw"
    }
   },
   "source": [
    "---\n",
    "layout: post\n",
    "title:  Conditionals, HW\n",
    "description:  Conditionals HW\n",
    "type: issues \n",
    "comments: true\n",
    "permalink: /csse/javascript/fundamentals/conditionals/hw\n",
    "---"
   ]
  },
  {
   "cell_type": "markdown",
   "metadata": {},
   "source": [
    "\n",
    "## Homeworks  \n",
    "\n",
    "\n",
    "### Part 1:\n",
    " Choose one from the three options to make a conditonal statement and if help is needed, use the Format at the bottom of the page.\n",
    "\n",
    "#### Option 1: Grade Checker \n",
    "Example for the grade checker:\n",
    "\n",
    "\"F\" if the grade is below 60.\n",
    "\"D\" if the grade is between 60 and 69.\n",
    "\"C\" if the grade is between 70 and 79.\n",
    "\"B\" if the grade is between 80 and 89.\n",
    "\"A\" if the grade is 90 or above.\n",
    "\n",
    "#### Option 2: Weather app\n",
    "Example for a weather app:\n",
    "\n",
    "If the weather is sunny, print: \"It's a great day to go outside!\"\n",
    "If the weather is rainy, print: \"Don't forget your umbrella!\"\n",
    "If the weather is snowy, print: \"Stay warm and safe!\"\n",
    "\n",
    "#### Option 3: Character Health Status\n",
    "Example for a character health status:\n",
    "\n",
    "If the health is 0, print: \"Your character is dead.\"\n",
    "If the health is between 1 and 25, print: \"Critical condition! Find a health pack!\"\n",
    "If the health is between 26 and 75, print: \"Your character is wounded. Be cautious.\"\n",
    "If the health is above 75, print: \"Your character is healthy and ready for action!\"\n",
    "\n",
    "### Part 2:\n",
    " Make another conditional statement with your idea.\n",
    "\n",
    " Make any If-Then, If, or Then-If statements with different ideas.\n",
    "\n",
    "\n",
    "##### Format: "
   ]
  },
  {
   "cell_type": "code",
   "execution_count": 5,
   "metadata": {
    "vscode": {
     "languageId": "javascript"
    }
   },
   "outputs": [
    {
     "data": {
      "application/javascript": "let playerChoice = \"Ratgpt\"; // Change this to your input or value\n\nif (playerChoice === \"Ratgpt\") {\n    console.log(\"You have selected to be a rachit. You have half a heart and do no damage.\");\n} else if (playerChoice === \"Mortensen\") {\n    console.log(\"you have infinite health and will never die. Dont worry since everything fears you as well. You are the supreme leader of the cody chain.\");\n} else {\n    console.log(\"you have 10 hearts. You are living decently but also have many predators in the code chain.\");\n}\n",
      "text/plain": [
       "<IPython.core.display.Javascript object>"
      ]
     },
     "metadata": {},
     "output_type": "display_data"
    }
   ],
   "source": [
    "%%js\n",
    "let playerChoice = \"Ratgpt\"; // Change this to your input or value\n",
    "\n",
    "if (playerChoice === \"Ratgpt\") {\n",
    "    console.log(\"You have selected to be a rachit. You have half a heart and do no damage.\");\n",
    "} else if (playerChoice === \"Mortensen\") {\n",
    "    console.log(\"you have infinite health and will never die. Dont worry since everything fears you as well. You are the supreme leader of the cody chain.\");\n",
    "} else {\n",
    "    console.log(\"you have 10 hearts. You are living decently but also have many predators in the code chain.\");\n",
    "}"
   ]
  },
  {
   "cell_type": "code",
   "execution_count": 6,
   "metadata": {
    "vscode": {
     "languageId": "javascript"
    }
   },
   "outputs": [
    {
     "data": {
      "application/javascript": "let weatherType = \"rainy\"; // Change this to your input or value\n\nif (weatherType === \"rainy\") {\n    console.log(\"You live in England and it rains every second of the day. But you cannot use an umbrela since your super tuff.\");\n} else if (weatherType === \"Snowing\") {\n    console.log(\"You went outside and made a snowman and snowangel while seven cars crashed on the road since californias dont know what snow is.\");\n} else {\n    console.log(\"There is a clear sky and some clouds. The weather is a chilly 90 degrees.\");\n}\n",
      "text/plain": [
       "<IPython.core.display.Javascript object>"
      ]
     },
     "metadata": {},
     "output_type": "display_data"
    }
   ],
   "source": [
    "%%js\n",
    "let weatherType = \"rainy\"; // Change this to your input or value\n",
    "\n",
    "if (weatherType === \"rainy\") {\n",
    "    console.log(\"You live in England and it rains every second of the day. But you cannot use an umbrela since your super tuff.\");\n",
    "} else if (weatherType === \"Snowing\") {\n",
    "    console.log(\"You went outside and made a snowman and snowangel while seven cars crashed on the road since californias dont know what snow is.\");\n",
    "} else {\n",
    "    console.log(\"There is a clear sky and some clouds. The weather is a chilly 90 degrees.\");\n",
    "}"
   ]
  },
  {
   "cell_type": "markdown",
   "metadata": {
    "vscode": {
     "languageId": "raw"
    }
   },
   "source": [
    "##### After testing any of the options, revise it and make another one from the options.\n"
   ]
  }
 ],
 "metadata": {
  "kernelspec": {
   "display_name": "Python 3",
   "language": "python",
   "name": "python3"
  },
  "language_info": {
   "codemirror_mode": {
    "name": "ipython",
    "version": 3
   },
   "file_extension": ".py",
   "mimetype": "text/x-python",
   "name": "python",
   "nbconvert_exporter": "python",
   "pygments_lexer": "ipython3",
   "version": "3.9.6"
  }
 },
 "nbformat": 4,
 "nbformat_minor": 2
}
