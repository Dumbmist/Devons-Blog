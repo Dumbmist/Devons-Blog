{
 "cells": [
  {
   "cell_type": "raw",
   "metadata": {
    "vscode": {
     "languageId": "raw"
    }
   },
   "source": [
    "---\n",
    "layout: post\n",
    "title: Popcorn Hacks, Conditionals\n",
    "description:  First popcorn hack for  conditonals\n",
    "type: issues \n",
    "comments: true\n",
    "permalink: /csse/javascript/fundamentals/conditionals/popcorn\n",
    "---"
   ]
  },
  {
   "cell_type": "markdown",
   "metadata": {},
   "source": [
    "# Popcorn Hacks!\n",
    "You're at the mall with your friends, and head into the Build-A-Bear store. Use conditionals to decide what kind of bear you want with different accessories! The employee comes up to you and explains the steps. She states...\n",
    "\n",
    "\"Choose Me: Pick that special furry friend — from a silly superhero to a sporty mascot and a cheerleading bunny to a snuggly teddy bear.\n",
    "Hear Me: Add a special sound effect to your furry friend.\n",
    "Stuff Me: Customize your creation with sounds, scents, stuffing and, of course, our iconic special heart that holds your love and wishes.\n",
    "Hug Me: Give your furry friend its first hug to make sure it’s stuffed just right.\n",
    "Dress Me: Turn up the fun with outfits and extras!\n",
    "Name Me: It’s official once your creation has a birth certificate of its bear-y own!\"\n",
    "\n",
    "### Hack 1: Simple If-Statement\n",
    "Create a variable based on what kind of stuffed animal you want."
   ]
  },
  {
   "cell_type": "code",
   "execution_count": 13,
   "metadata": {
    "vscode": {
     "languageId": "javascript"
    }
   },
   "outputs": [
    {
     "data": {
      "application/javascript": "let bearType = \"monkey\"; //Choose what kind of bear you want: Teddy or Unicorn (Example: let bearType = \"Teddyy\")\n\nif (bearType === \"monkey\") { //Put the same bear type from above into this line\n    console.log(\"You picked a snuggly monkey bear!\");\n}\n",
      "text/plain": [
       "<IPython.core.display.Javascript object>"
      ]
     },
     "metadata": {},
     "output_type": "display_data"
    }
   ],
   "source": [
    "%%js\n",
    "let bearType = \"monkey\"; //Choose what kind of bear you want: Teddy or Unicorn (Example: let bearType = \"Teddyy\")\n",
    "\n",
    "if (bearType === \"monkey\") { //Put the same bear type from above into this line\n",
    "    console.log(\"You picked a snuggly monkey bear!\");\n",
    "}"
   ]
  },
  {
   "cell_type": "markdown",
   "metadata": {},
   "source": [
    "### Hack 2: If-Else Statement\n",
    "Add a sound to the bear based on the type chosen."
   ]
  },
  {
   "cell_type": "code",
   "execution_count": 14,
   "metadata": {
    "vscode": {
     "languageId": "javascript"
    }
   },
   "outputs": [
    {
     "data": {
      "application/javascript": "let bearType = \"monkey\"; //Put the same bear type as before.\n\nif (bearType ===\"monkey\") {\n    console.log(\"Your monkey snores...\");\n} else {\n    console.log(\"Your Unicorn neighs loud... and fell off into extinction\")\n}\n",
      "text/plain": [
       "<IPython.core.display.Javascript object>"
      ]
     },
     "metadata": {},
     "output_type": "display_data"
    }
   ],
   "source": [
    "%%js\n",
    "let bearType = \"monkey\"; //Put the same bear type as before.\n",
    "\n",
    "if (bearType ===\"monkey\") {\n",
    "    console.log(\"Your monkey snores...\");\n",
    "} else {\n",
    "    console.log(\"Your Unicorn neighs loud... and fell off into extinction\")\n",
    "}\n"
   ]
  },
  {
   "cell_type": "markdown",
   "metadata": {},
   "source": [
    "### Hack 3: Else-If Statement\n",
    "Choose the stuffing type using an If-Else-If statement"
   ]
  },
  {
   "cell_type": "code",
   "execution_count": 15,
   "metadata": {
    "vscode": {
     "languageId": "javascript"
    }
   },
   "outputs": [
    {
     "data": {
      "application/javascript": "let stuffingType = \"rocks\"; //Choose a stuffing: Fluffy, Firm, or Squishy\n\nif (stuffingType === \"Fluffy\") {\n    console.log(\"Your bear will be extra soft and fluffy!\");\n} else if (stuffingType === \"rocks\") {\n    console.log (\"Your bear will have a firm, sturdy feel and hurt when dropped on your head\");\n} else {\n    console.log(\"Your bear will be nice and squishy!\");\n}\n",
      "text/plain": [
       "<IPython.core.display.Javascript object>"
      ]
     },
     "metadata": {},
     "output_type": "display_data"
    }
   ],
   "source": [
    "%%js\n",
    "let stuffingType = \"rocks\"; //Choose a stuffing: Fluffy, Firm, or Squishy\n",
    "\n",
    "if (stuffingType === \"Fluffy\") {\n",
    "    console.log(\"Your bear will be extra soft and fluffy!\");\n",
    "} else if (stuffingType === \"rocks\") {\n",
    "    console.log (\"Your bear will have a firm, sturdy feel and hurt when dropped on your head\");\n",
    "} else {\n",
    "    console.log(\"Your bear will be nice and squishy!\");\n",
    "}"
   ]
  },
  {
   "cell_type": "markdown",
   "metadata": {},
   "source": [
    "### Hack 4: Switch Statement\n",
    "Use a switch statement to pick a bear outfit"
   ]
  },
  {
   "cell_type": "code",
   "execution_count": 16,
   "metadata": {
    "vscode": {
     "languageId": "javascript"
    }
   },
   "outputs": [
    {
     "data": {
      "application/javascript": "let bearOutfit = \"monkey\"; // Choose an outfit: \"Superhero\", \"Cheerleader\", \"Pirate\", \"Princess\"\n\nswitch (bearOutfit) {\n    case \"Superhero\":\n        console.log(\"Your bear is ready to save the day in a Superhero costume!\");\n        break;\n    case \"Cheerleader\":\n        console.log(\"Your bear will cheer with its Cheerleader outfit!\");\n        break;\n    case \"Pirate\":\n        console.log(\"Ahoy! Your bear is ready to sail in a Pirate costume!\");\n        break;\n    case \"monkey\":\n        console.log(\"Ooh ooh ahh ahh. I want large bananas. Tickle my monkey feet tarzan.\");\n        break;\n    default:\n        console.log(\"Your bear is ready for a royal adventure in a Princess outfit!\");\n}\n",
      "text/plain": [
       "<IPython.core.display.Javascript object>"
      ]
     },
     "metadata": {},
     "output_type": "display_data"
    }
   ],
   "source": [
    "%%js\n",
    "let bearOutfit = \"monkey\"; // Choose an outfit: \"Superhero\", \"Cheerleader\", \"Pirate\", \"Princess\"\n",
    "\n",
    "switch (bearOutfit) {\n",
    "    case \"Superhero\":\n",
    "        console.log(\"Your bear is ready to save the day in a Superhero costume!\");\n",
    "        break;\n",
    "    case \"Cheerleader\":\n",
    "        console.log(\"Your bear will cheer with its Cheerleader outfit!\");\n",
    "        break;\n",
    "    case \"Pirate\":\n",
    "        console.log(\"Ahoy! Your bear is ready to sail in a Pirate costume!\");\n",
    "        break;\n",
    "    case \"monkey\":\n",
    "        console.log(\"Ooh ooh ahh ahh. I want large bananas. Tickle my monkey feet tarzan.\");\n",
    "        break;\n",
    "    default:\n",
    "        console.log(\"Your bear is ready for a royal adventure in a Princess outfit!\");\n",
    "}\n"
   ]
  },
  {
   "cell_type": "markdown",
   "metadata": {},
   "source": [
    "### Hack 5: Complete Build-A-Bear Experience\n",
    "Combine all conditionals to create new types of bears, stuffings, and outfits in a single code cell!"
   ]
  },
  {
   "cell_type": "code",
   "execution_count": 17,
   "metadata": {
    "vscode": {
     "languageId": "javascript"
    }
   },
   "outputs": [
    {
     "data": {
      "application/javascript": "let bearType = \"monkey\"; //Make a type of bear!\nlet stuffingType = \"rocks\"; //Choose a type of stuffing!\nlet bearOutfit = \"diddy monkey\"; //Create your own outfit!\n\n// Step 1: Choose Me\nif (bearType === \"monkey\") { //Choose a bear type\n    console.log(\"You have selected the skinless monkey. It is just fake skin in a monkey shape.\"); //Create a console message for the specified bear type\n} else if (bearType === \"Diddy\") {\n    console.log(\"You have chosen the diddy bear.\");\n} else {\n    console.log(\"You have selected the generic teddy bear, a bit... boring\");\n}\n\n//Repeat these steps. When finished, you should be able to choose your own type of bear, stuffing, and outfit within a single code cell. Be creative and have fun!!!\n// Step 2: Hear Me\nif (bearType === \"skibidi toilet\") {\n    console.log(\"You have selected the skibidi toilet bear. Your child may get brainrot.\");\n} else {\n    console.log(\"You have selected Yasna cuz she taught this stuff. You need to get off block blast.\");\n}\n\n// Step 3: Stuff Me\nif (stuffingType === \"rocks\") {\n    console.log(\"Have fun with your rock stuffed bears. They may tickle a bit.\");\n} else if (stuffingType === \"Popcorn\") {\n    console.log(\"You can eat your stuffing or crush it up to have a limp bear\");\n} else {\n    console.log(\"You have been given fluffy stuffing, it is fluffy and nice for your (lame) awesome person.\");\n}\n\n// Step 4: Dress Me\nswitch (bearOutfit) {\n    case \"diddy monkey\":\n        console.log(\"your bear holds baby oil and has a smaller bear friend to have playdates with.\");\n        break;\n    case \"generic school boy\":\n        console.log(\"You got baggy pants and a hoodie, plus you act tuff but aren't (cough cough...person)\");\n        break;\n    case \"Rachit\":\n        console.log(\"you have glasses and need to be nerdy as well as a chill guy\");\n        break;\n    default:\n        console.log(\"You have chosen no outfit, a shame because of the many amazing choices.\");\n}\n",
      "text/plain": [
       "<IPython.core.display.Javascript object>"
      ]
     },
     "metadata": {},
     "output_type": "display_data"
    }
   ],
   "source": [
    "%%js\n",
    "let bearType = \"monkey\"; //Make a type of bear!\n",
    "let stuffingType = \"rocks\"; //Choose a type of stuffing!\n",
    "let bearOutfit = \"diddy monkey\"; //Create your own outfit!\n",
    "\n",
    "// Step 1: Choose Me\n",
    "if (bearType === \"monkey\") { //Choose a bear type\n",
    "    console.log(\"You have selected the skinless monkey. It is just fake skin in a monkey shape.\"); //Create a console message for the specified bear type\n",
    "} else if (bearType === \"Diddy\") {\n",
    "    console.log(\"You have chosen the diddy bear.\");\n",
    "} else {\n",
    "    console.log(\"You have selected the generic teddy bear, a bit... boring\");\n",
    "}\n",
    "\n",
    "//Repeat these steps. When finished, you should be able to choose your own type of bear, stuffing, and outfit within a single code cell. Be creative and have fun!!!\n",
    "// Step 2: Hear Me\n",
    "if (bearType === \"skibidi toilet\") {\n",
    "    console.log(\"You have selected the skibidi toilet bear. Your child may get brainrot.\");\n",
    "} else {\n",
    "    console.log(\"You have selected Yasna cuz she taught this stuff. You need to get off block blast.\");\n",
    "}\n",
    "\n",
    "// Step 3: Stuff Me\n",
    "if (stuffingType === \"rocks\") {\n",
    "    console.log(\"Have fun with your rock stuffed bears. They may tickle a bit.\");\n",
    "} else if (stuffingType === \"Popcorn\") {\n",
    "    console.log(\"You can eat your stuffing or crush it up to have a limp bear\");\n",
    "} else {\n",
    "    console.log(\"You have been given fluffy stuffing, it is fluffy and nice for your (lame) awesome person.\");\n",
    "}\n",
    "\n",
    "// Step 4: Dress Me\n",
    "switch (bearOutfit) {\n",
    "    case \"diddy monkey\":\n",
    "        console.log(\"your bear holds baby oil and has a smaller bear friend to have playdates with.\");\n",
    "        break;\n",
    "    case \"generic school boy\":\n",
    "        console.log(\"You got baggy pants and a hoodie, plus you act tuff but aren't (cough cough...person)\");\n",
    "        break;\n",
    "    case \"Rachit\":\n",
    "        console.log(\"you have glasses and need to be nerdy as well as a chill guy\");\n",
    "        break;\n",
    "    default:\n",
    "        console.log(\"You have chosen no outfit, a shame because of the many amazing choices.\");\n",
    "}\n"
   ]
  }
 ],
 "metadata": {
  "kernelspec": {
   "display_name": "venv",
   "language": "python",
   "name": "python3"
  },
  "language_info": {
   "codemirror_mode": {
    "name": "ipython",
    "version": 3
   },
   "file_extension": ".py",
   "mimetype": "text/x-python",
   "name": "python",
   "nbconvert_exporter": "python",
   "pygments_lexer": "ipython3",
   "version": "3.9.6"
  }
 },
 "nbformat": 4,
 "nbformat_minor": 2
}
