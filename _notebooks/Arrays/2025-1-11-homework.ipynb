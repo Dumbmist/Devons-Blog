{
 "cells": [
  {
   "cell_type": "markdown",
   "metadata": {},
   "source": [
    "# Homework!! #\n",
    "\n",
    "Your task is to fill in the following code to alter the arrays!"
   ]
  },
  {
   "cell_type": "markdown",
   "metadata": {},
   "source": [
    "# Lesson 1 Homework"
   ]
  },
  {
   "cell_type": "code",
   "execution_count": 5,
   "metadata": {
    "vscode": {
     "languageId": "javascript"
    }
   },
   "outputs": [
    {
     "data": {
      "application/javascript": "//We have an array made for you, but something's off...\nlet desserts = [\"lemon merangue\",\"advaits amazing apple pie\",\"ice cream\",\"chocolate cake\",\"key lime pie\",\"pratheeps purple pie\"];\n\n//We need to get rid of the elements labeled delete1 and delete2!\ndesserts.pop(); //which command gets rid of the last element in the array?\ndesserts.splice(0, 1); //which command will delete the delete1 element and how do you use it??\n\n//now that that's done... a lemon isn't a dessert unless you're weird... maybe change it to a lemon-themed dessert?\ndesserts[0] = \"lemon merangue lolipop with lemon compote and lovely lemon glaze, topped with abraham lincolns lemon frosting\";\n\n//hint for the previous 2 fill-in-the-blanks: the indexing starts at 0\n\n//okay okay, you've proven your skills... now all that's left is to print the list!\nconsole.log(desserts);\n",
      "text/plain": [
       "<IPython.core.display.Javascript object>"
      ]
     },
     "metadata": {},
     "output_type": "display_data"
    }
   ],
   "source": [
    "%%js\n",
    "//We have an array made for you, but something's off...\n",
    "let desserts = [\"lemon merangue\",\"advaits amazing apple pie\",\"ice cream\",\"chocolate cake\",\"key lime pie\",\"pratheeps purple pie\"];\n",
    "\n",
    "//We need to get rid of the elements labeled delete1 and delete2!\n",
    "desserts.pop(); //which command gets rid of the last element in the array?\n",
    "desserts.splice(0, 1); //which command will delete the delete1 element and how do you use it??\n",
    "\n",
    "//now that that's done... a lemon isn't a dessert unless you're weird... maybe change it to a lemon-themed dessert?\n",
    "desserts[0] = \"lemon merangue lolipop with lemon compote and lovely lemon glaze, topped with abraham lincolns lemon frosting\";\n",
    "\n",
    "//hint for the previous 2 fill-in-the-blanks: the indexing starts at 0\n",
    "\n",
    "//okay okay, you've proven your skills... now all that's left is to print the list!\n",
    "console.log(desserts);\n"
   ]
  },
  {
   "cell_type": "markdown",
   "metadata": {},
   "source": [
    "# Lesson 2 Homework - Part 1"
   ]
  },
  {
   "cell_type": "code",
   "execution_count": 6,
   "metadata": {
    "vscode": {
     "languageId": "javascript"
    }
   },
   "outputs": [
    {
     "data": {
      "application/javascript": "//I want you to create a list of whatever you'd like (integers or strings, it really doesn't matter) and have a repeating element in it.\nlet menialTaskofHomework = [\"Skibidi\", \"Toilet\", \"Fanum\", \"Tax\", \"Ohio\", \"Sigma\", \"Ohio\"]; // \"Ohio\" is repeated\n\n//Ok, now I know this is about arrays, but could you make a for loop to iterate through each element and print the index of them?\nfor (let i = 0; i < menialTaskofHomework.length; i++) {\n    console.log(`Index ${i}: ${menialTaskofHomework[i]}`);\n}\n\n//Wait! You remember that repeating element I made you put in your list? Create a separate command outside of the loop to print the index of the last occurring repeated value.\nconsole.log(\"Last index of 'Ohio':\", menialTaskofHomework.lastIndexOf(\"Ohio\"));\n",
      "text/plain": [
       "<IPython.core.display.Javascript object>"
      ]
     },
     "metadata": {},
     "output_type": "display_data"
    }
   ],
   "source": [
    "%%js\n",
    "//I want you to create a list of whatever you'd like (integers or strings, it really doesn't matter) and have a repeating element in it.\n",
    "let menialTaskofHomework = [\"Skibidi\", \"Toilet\", \"Fanum\", \"Tax\", \"Ohio\", \"Sigma\", \"Ohio\"]; // \"Ohio\" is repeated\n",
    "\n",
    "//Ok, now I know this is about arrays, but could you make a for loop to iterate through each element and print the index of them?\n",
    "for (let i = 0; i < menialTaskofHomework.length; i++) {\n",
    "    console.log(`Index ${i}: ${menialTaskofHomework[i]}`);\n",
    "}\n",
    "\n",
    "//Wait! You remember that repeating element I made you put in your list? Create a separate command outside of the loop to print the index of the last occurring repeated value.\n",
    "console.log(\"Last index of 'Ohio':\", menialTaskofHomework.lastIndexOf(\"Ohio\"));\n"
   ]
  },
  {
   "cell_type": "markdown",
   "metadata": {},
   "source": [
    "# Lesson 2 Homework - Part 2"
   ]
  },
  {
   "cell_type": "code",
   "execution_count": 3,
   "metadata": {
    "vscode": {
     "languageId": "javascript"
    }
   },
   "outputs": [
    {
     "data": {
      "application/javascript": "//This is the fairly simple final problem of arrays!\n\n//Create a list here that includes whatever you'd like once again.\nlet middleTablePeeps = [\"Andrew\", \"Devon\", \"PPratheep\", \"Ishaanti om\", \"Ruhaan\", \"Evan da Goat\"];\n\n//Now, print the length of your list!\nconsole.log(\"List Length:\", middleTablePeeps.length);\n\n//Finally, create a variable to check if a value in your list is included in the list and print that variable you created (it should output true or false)\nlet isIncluded = middleTablePeeps.includes(\"Ruhaan\");\nconsole.log(\"Is 'Ruhaan' in the list?\", isIncluded);\n",
      "text/plain": [
       "<IPython.core.display.Javascript object>"
      ]
     },
     "metadata": {},
     "output_type": "display_data"
    }
   ],
   "source": [
    "%%js\n",
    "//This is the fairly simple final problem of arrays!\n",
    "\n",
    "//Create a list here that includes whatever you'd like once again.\n",
    "let middleTablePeeps = [\"Andrew\", \"Devon\", \"PPratheep\", \"Ishaanti om\", \"Ruhaan\", \"Evan da Goat\"];\n",
    "\n",
    "//Now, print the length of your list!\n",
    "console.log(\"List Length:\", middleTablePeeps.length);\n",
    "\n",
    "//Finally, create a variable to check if a value in your list is included in the list and print that variable you created (it should output true or false)\n",
    "let isIncluded = middleTablePeeps.includes(\"Ruhaan\");\n",
    "console.log(\"Is 'Ruhaan' in the list?\", isIncluded);\n"
   ]
  },
  {
   "cell_type": "markdown",
   "metadata": {
    "vscode": {
     "languageId": "javascript"
    }
   },
   "source": [
    "You're done with your homework!!"
   ]
  }
 ],
 "metadata": {
  "kernelspec": {
   "display_name": ".venv",
   "language": "python",
   "name": "python3"
  },
  "language_info": {
   "codemirror_mode": {
    "name": "ipython",
    "version": 3
   },
   "file_extension": ".py",
   "mimetype": "text/x-python",
   "name": "python",
   "nbconvert_exporter": "python",
   "pygments_lexer": "ipython3",
   "version": "3.9.6"
  }
 },
 "nbformat": 4,
 "nbformat_minor": 2
}
