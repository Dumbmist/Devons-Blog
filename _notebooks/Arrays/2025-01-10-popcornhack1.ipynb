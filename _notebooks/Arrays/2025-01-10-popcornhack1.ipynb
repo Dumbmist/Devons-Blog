{
 "cells": [
  {
   "cell_type": "markdown",
   "metadata": {},
   "source": [
    "```yaml\n",
    "\n",
    "---\n",
    "layout: page\n",
    "title: Popcorn Hacks One\n",
    "permalink: /phjupyter/\n",
    "---"
   ]
  },
  {
   "cell_type": "markdown",
   "metadata": {},
   "source": [
    "---\n",
    "Popcorn Hacks One\n",
    "---"
   ]
  },
  {
   "cell_type": "markdown",
   "metadata": {},
   "source": [
    " - Delete the last two items of the list below (delete1 and delete2)\n",
    " - Change the non dessert item (fries) to a dessert\n",
    " - Add two more desserts to list"
   ]
  },
  {
   "cell_type": "code",
   "execution_count": 13,
   "metadata": {
    "vscode": {
     "languageId": "javascript"
    }
   },
   "outputs": [
    {
     "data": {
      "application/javascript": "\nlet desserts = ['cake', 'ice cream', 'cookies', 'Orea mclfurry', 'tanays home-made ice cream', 'Morts Milkshake']\n\nconsole.log(desserts.join(\", \"))\n",
      "text/plain": [
       "<IPython.core.display.Javascript object>"
      ]
     },
     "metadata": {},
     "output_type": "display_data"
    }
   ],
   "source": [
    "%%js\n",
    "\n",
    "let desserts = ['cake', 'ice cream', 'cookies', 'Orea mclfurry', 'tanays home-made ice cream', 'Morts Milkshake']\n",
    "\n",
    "console.log(desserts.join(\", \"))"
   ]
  },
  {
   "cell_type": "markdown",
   "metadata": {},
   "source": [
    "instructions:\n",
    " - Create a length of a list and print it in console.log()\n",
    " - Create a variable called \"list\" or \"my_list_2\"\n",
    " - Create a list of numbers or words in the brackets [] Exp: let your_list = [3, 7, 9, 21];\n",
    " - Create a const length = your_list.length;\n",
    " - After all of that, finally print it out in console.log() Exp: console.log(your_list);"
   ]
  },
  {
   "cell_type": "code",
   "execution_count": 14,
   "metadata": {
    "vscode": {
     "languageId": "javascript"
    }
   },
   "outputs": [
    {
     "data": {
      "application/javascript": "\nlet mortsMeasure = [5, 7, 9, 21, 97, 85, 2459, 209309384]; //create variable\n\nconst length = mortsMeasure. length; //create const length\n\nconsole.log(mortsMeasure);\n",
      "text/plain": [
       "<IPython.core.display.Javascript object>"
      ]
     },
     "metadata": {},
     "output_type": "display_data"
    }
   ],
   "source": [
    "%%js\n",
    "\n",
    "let mortsMeasure = [5, 7, 9, 21, 97, 85, 2459, 209309384]; //create variable\n",
    "\n",
    "const length = mortsMeasure. length; //create const length\n",
    "\n",
    "console.log(mortsMeasure);"
   ]
  }
 ],
 "metadata": {
  "kernelspec": {
   "display_name": "Python 3",
   "language": "python",
   "name": "python3"
  },
  "language_info": {
   "codemirror_mode": {
    "name": "ipython",
    "version": 3
   },
   "file_extension": ".py",
   "mimetype": "text/x-python",
   "name": "python",
   "nbconvert_exporter": "python",
   "pygments_lexer": "ipython3",
   "version": "3.9.6"
  }
 },
 "nbformat": 4,
 "nbformat_minor": 2
}
