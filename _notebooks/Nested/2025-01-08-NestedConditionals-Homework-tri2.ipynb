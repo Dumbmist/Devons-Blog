{
 "cells": [
  {
   "cell_type": "raw",
   "metadata": {
    "vscode": {
     "languageId": "raw"
    }
   },
   "source": [
    "---\n",
    "layout: post\n",
    "title: Nested Conditionals, Homework\n",
    "description:  Homework for nested conditionals\n",
    "type: issues \n",
    "comments: true\n",
    "---"
   ]
  },
  {
   "cell_type": "markdown",
   "metadata": {},
   "source": [
    "### Homework Objectives\n",
    "\n",
    "You and your friend want to do different things at the amusement park. To decide, you do a coin flip. Heads means that you get to choose where to go and tails means that your friend gets to choose. If you go on a ride, be sure to check if you are the right height and have enough tickets, and if you go to a food stand, make sure that you have enough money and that the food is in stock. Be creative, and make sure to use nested conditionals!"
   ]
  },
  {
   "cell_type": "markdown",
   "metadata": {},
   "source": [
    "### Instructions\n",
    "\n",
    "1) Create a JavaScript file (Ex. insertName.js)\n",
    "\n",
    "2) Plan out what you will be doing and make variables for the necessary things. There will be a coin flip, so make a variable for that. If there are rides, make a value for the amount of tickets the person has and what height they are. If they go to a food stand, you can make a variable for the amount of money that you have and if the food is in stock.\n",
    "\n",
    "3) Use Math.random() for the coin flip. This generates a number between 0 and 1, so then you multiply this value by 2 and put it inside Math.floor() to round down and get either 0 or 1. Make this the coin flip variable.\n",
    "\n",
    "4) Use an if statement to check what the result of the coin flip was and use console.log to print out a statement to see who won or lost the coin flip. Along with that, print out where they are going next.\n",
    "\n",
    "5) Use more if statements inside of if statements to check if the person can do what they want to do. (Are they tall enough, do they have enough money, etc.)\n",
    "\n",
    "6) After all the checks, print out a result of what happened. If you get stuck, you can look at the examples in the popcorn hacks. Please don't copy and paste, though! \n"
   ]
  },
  {
   "cell_type": "code",
   "execution_count": 3,
   "metadata": {
    "vscode": {
     "languageId": "javascript"
    }
   },
   "outputs": [
    {
     "data": {
      "application/javascript": "\nlet coinFlip = Math.floor(Math.random() * 2);\nlet tickets = Math.floor(Math.random() * 10) + 1;\nlet height = Math.floor(Math.random() * 40) + 50;\nlet money = Math.floor(Math.random() * 20) + 5;\nlet foodInStock = Math.random() > 0.5;\n\nconsole.log(\"Coin flip result:\", coinFlip === 0 ? \"Heads\" : \"Tails\");\n\nif (coinFlip === 0) {\n    console.log(\"Going to the roller coaster!\");\n\n    if (height >= 54) {\n        if (tickets >= 3) {\n            tickets -= 3;\n            console.log(\"You are tall enough and have enough tickets! Maybe enjoy the ride! Hope you don't hit your head!\");\n        } else {\n            console.log(\"You are tall enough, but you don’t have enough tickets. Go spend more money for me!\");\n        }\n    } else {\n        console.log(\"You are not tall enough to ride. That growthspurt is coming soon\");\n    }\n} else {\n    console.log(\"Going to the food stand! A man's gotta eat!\");\n\n    if (foodInStock) {\n        if (money >= 10) {\n            money -= 10;\n            console.log(\"Food is in stock and you have enough money. Enjoy your meal and the mystery meat!\");\n        } else {\n            console.log(\"Food is available, but you don't have enough money. Spend more money please!\");\n        }\n    } else {\n        console.log(\"Sorry, the food is out of stock. Someone ate all the food, definitely not buisness problems.\");\n    }\n}\n\nconsole.log(`Remaining Tickets: ${tickets}, Height: ${height} inches, Money Left: $${money}`);\n",
      "text/plain": [
       "<IPython.core.display.Javascript object>"
      ]
     },
     "metadata": {},
     "output_type": "display_data"
    }
   ],
   "source": [
    "%%js\n",
    "\n",
    "let coinFlip = Math.floor(Math.random() * 2);\n",
    "let tickets = Math.floor(Math.random() * 10) + 1;\n",
    "let height = Math.floor(Math.random() * 40) + 50;\n",
    "let money = Math.floor(Math.random() * 20) + 5;\n",
    "let foodInStock = Math.random() > 0.5;\n",
    "\n",
    "console.log(\"Coin flip result:\", coinFlip === 0 ? \"Heads\" : \"Tails\");\n",
    "\n",
    "if (coinFlip === 0) {\n",
    "    console.log(\"Going to the roller coaster!\");\n",
    "\n",
    "    if (height >= 54) {\n",
    "        if (tickets >= 3) {\n",
    "            tickets -= 3;\n",
    "            console.log(\"You are tall enough and have enough tickets! Maybe enjoy the ride! Hope you don't hit your head!\");\n",
    "        } else {\n",
    "            console.log(\"You are tall enough, but you don’t have enough tickets. Go spend more money for me!\");\n",
    "        }\n",
    "    } else {\n",
    "        console.log(\"You are not tall enough to ride. That growthspurt is coming soon\");\n",
    "    }\n",
    "} else {\n",
    "    console.log(\"Going to the food stand! A man's gotta eat!\");\n",
    "\n",
    "    if (foodInStock) {\n",
    "        if (money >= 10) {\n",
    "            money -= 10;\n",
    "            console.log(\"Food is in stock and you have enough money. Enjoy your meal and the mystery meat!\");\n",
    "        } else {\n",
    "            console.log(\"Food is available, but you don't have enough money. Spend more money please!\");\n",
    "        }\n",
    "    } else {\n",
    "        console.log(\"Sorry, the food is out of stock. Someone ate all the food, definitely not buisness problems.\");\n",
    "    }\n",
    "}\n",
    "\n",
    "console.log(`Remaining Tickets: ${tickets}, Height: ${height} inches, Money Left: $${money}`);\n"
   ]
  }
 ],
 "metadata": {
  "kernelspec": {
   "display_name": "Python 3",
   "language": "python",
   "name": "python3"
  },
  "language_info": {
   "codemirror_mode": {
    "name": "ipython",
    "version": 3
   },
   "file_extension": ".py",
   "mimetype": "text/x-python",
   "name": "python",
   "nbconvert_exporter": "python",
   "pygments_lexer": "ipython3",
   "version": "3.9.6"
  }
 },
 "nbformat": 4,
 "nbformat_minor": 2
}
