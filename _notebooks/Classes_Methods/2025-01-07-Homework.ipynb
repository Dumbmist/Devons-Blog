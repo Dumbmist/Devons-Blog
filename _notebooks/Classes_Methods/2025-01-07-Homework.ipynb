{
 "cells": [
  {
   "cell_type": "raw",
   "metadata": {
    "vscode": {
     "languageId": "raw"
    }
   },
   "source": [
    "---\n",
    "layout: post\n",
    "title: Homework\n",
    "description:  Homework for classes and methods lessons.\n",
    "type: issues \n",
    "comments: true\n",
    "---"
   ]
  },
  {
   "cell_type": "markdown",
   "metadata": {},
   "source": [
    "## Homework "
   ]
  },
  {
   "cell_type": "markdown",
   "metadata": {},
   "source": [
    "# JavaScript Classes and Methods - Interactive Homework\n",
    "In this notebook, you will learn about classes and methods in JavaScript. After the lesson, complete the tasks by editing the code cells.\n",
    "\n",
    "### What are Classes and Methods?\n",
    "- **Class**: A blueprint for creating objects with properties and methods.\n",
    "- **Method**: A function inside a class that defines an object's behavior.\n",
    "\n"
   ]
  },
  {
   "cell_type": "markdown",
   "metadata": {},
   "source": [
    "## Example: Class for food\n",
    "\n",
    "Below is an example of a JavaScript class for creating different foods. The class has:\n",
    "1. A **constructor** to initialize properties (brand and model).\n",
    "2. Two **methods** (`displayInfo` and `start`) to define behaviors.\n"
   ]
  },
  {
   "cell_type": "code",
   "execution_count": 8,
   "metadata": {
    "vscode": {
     "languageId": "javascript"
    }
   },
   "outputs": [
    {
     "data": {
      "application/javascript": "// Example: A Class for Cars\nclass Car {\n  constructor(brand, model) {\n    this.brand = brand; // Property\n    this.model = model; // Property\n  }\n\n  displayInfo() {\n    console.log(`This car is a ${this.brand} ${this.model}.`);\n  }\n\n  start() {\n    console.log(`${this.brand} ${this.model} is starting...`);\n  }\n}\n\n// Create an instance of the class\nconst myCar = new Car(\"Tesla\", \"Model S\");\nmyCar.displayInfo();\nmyCar.start();\n",
      "text/plain": [
       "<IPython.core.display.Javascript object>"
      ]
     },
     "metadata": {},
     "output_type": "display_data"
    }
   ],
   "source": [
    "%%js\n",
    "// Example: A Class for Cars\n",
    "class Car {\n",
    "  constructor(brand, model) {\n",
    "    this.brand = brand; // Property\n",
    "    this.model = model; // Property\n",
    "  }\n",
    "\n",
    "  displayInfo() {\n",
    "    console.log(`This car is a ${this.brand} ${this.model}.`);\n",
    "  }\n",
    "\n",
    "  start() {\n",
    "    console.log(`${this.brand} ${this.model} is starting...`);\n",
    "  }\n",
    "}\n",
    "\n",
    "// Create an instance of the class\n",
    "const myCar = new Car(\"Tesla\", \"Model S\");\n",
    "myCar.displayInfo();\n",
    "myCar.start();\n"
   ]
  },
  {
   "cell_type": "markdown",
   "metadata": {},
   "source": [
    "# What to Do\n",
    "I want you to look through the code and complete the missing pieces and write new code lines to make the game funtion.\n",
    "this is basically a `gambling simulator` but with food.\n",
    "I have porvided \"hints\" in the code.\n",
    "### if you want a challenge dont read the <span style=\"color: green;\">GREEN</span>\n",
    "the green next to code it the real hint if you look at the // above there is description of what you need to do\n",
    "starting from a little above the bottom at the fill in the blank or top is the easiest the `middle is the hardest`.\n",
    "## Grab item\n",
    "I want you to Create a grab item function that will reference the class to randomly pick a food item\n",
    "12:21\n"
   ]
  },
  {
   "cell_type": "code",
   "execution_count": 7,
   "metadata": {
    "vscode": {
     "languageId": "javascript"
    }
   },
   "outputs": [
    {
     "data": {
      "application/javascript": "class FridgeGame {\n    constructor() {\n      // Array of items in the fridge with their scores\n      this.fridgeItems = [\n        { name: \"Piece of pizza\", score: 10 },\n        { name: \"Half-empty soda can\", score: 4 },\n        { name: \"Old sandwich\", score: 3 },\n        { name: \"Fresh apple\", score: 7 },\n        { name: \"Stale muffin\", score: 5 },\n        { name: \"Block of cheese\", score: 8 },\n        { name: \"Bag of carrots\", score: 6 },\n        { name: \"Yogurt\", score: 9 },\n        { name: \"Expired milk\", score: 2 },\n        { name: \"Leftover spaghetti\", score: 8 }\n      ];\n    }\n  \n    // Method to pick a random item from the fridge\n    grabItem() {\n      const randomIndex = Math.floor(Math.random() * this.fridgeItems.length);\n      return this.fridgeItems[randomIndex];\n    }\n  \n    // Method to classify the find based on its score\n    classifyFind(score) {\n      if (score >= 8) {\n        return \"Great, Just great! A maybe tasty find!\";\n      } else if (score >= 5) {\n        return \"Eh, could be better.\";\n      } else {\n        return \"Skibidi! That's a bad one!\";\n      }\n    }\n  \n    // Reference method to start the game\n    play() {\n      console.log(\"Welcome to the Fridge Game!\");\n      const item = this.grabItem();\n      console.log(`You found: ${item.name}`);\n      \n      // Get feedback based on the item's score\n      const feedback = this.classifyFind(item.score);\n      console.log(`It is ${feedback} Score: ${item.score}`);\n    }\n  }\n  \n  // Create an instance of the game\n  const fridgeGame = new FridgeGame();\n  \n  // Start the game by calling the play method\n  fridgeGame.play();\n  \n",
      "text/plain": [
       "<IPython.core.display.Javascript object>"
      ]
     },
     "metadata": {},
     "output_type": "display_data"
    }
   ],
   "source": [
    "%%js\n",
    "class FridgeGame {\n",
    "    constructor() {\n",
    "      // Array of items in the fridge with their scores\n",
    "      this.fridgeItems = [\n",
    "        { name: \"Piece of pizza\", score: 10 },\n",
    "        { name: \"Half-empty soda can\", score: 4 },\n",
    "        { name: \"Old sandwich\", score: 3 },\n",
    "        { name: \"Fresh apple\", score: 7 },\n",
    "        { name: \"Stale muffin\", score: 5 },\n",
    "        { name: \"Block of cheese\", score: 8 },\n",
    "        { name: \"Bag of carrots\", score: 6 },\n",
    "        { name: \"Yogurt\", score: 9 },\n",
    "        { name: \"Expired milk\", score: 2 },\n",
    "        { name: \"Leftover spaghetti\", score: 8 }\n",
    "      ];\n",
    "    }\n",
    "  \n",
    "    // Method to pick a random item from the fridge\n",
    "    grabItem() {\n",
    "      const randomIndex = Math.floor(Math.random() * this.fridgeItems.length);\n",
    "      return this.fridgeItems[randomIndex];\n",
    "    }\n",
    "  \n",
    "    // Method to classify the find based on its score\n",
    "    classifyFind(score) {\n",
    "      if (score >= 8) {\n",
    "        return \"Great, Just great! A maybe tasty find!\";\n",
    "      } else if (score >= 5) {\n",
    "        return \"Eh, could be better.\";\n",
    "      } else {\n",
    "        return \"Skibidi! That's a bad one!\";\n",
    "      }\n",
    "    }\n",
    "  \n",
    "    // Reference method to start the game\n",
    "    play() {\n",
    "      console.log(\"Welcome to the Fridge Game!\");\n",
    "      const item = this.grabItem();\n",
    "      console.log(`You found: ${item.name}`);\n",
    "      \n",
    "      // Get feedback based on the item's score\n",
    "      const feedback = this.classifyFind(item.score);\n",
    "      console.log(`It is ${feedback} Score: ${item.score}`);\n",
    "    }\n",
    "  }\n",
    "  \n",
    "  // Create an instance of the game\n",
    "  const fridgeGame = new FridgeGame();\n",
    "  \n",
    "  // Start the game by calling the play method\n",
    "  fridgeGame.play();\n",
    "  \n"
   ]
  }
 ],
 "metadata": {
  "kernelspec": {
   "display_name": "Python 3",
   "language": "python",
   "name": "python3"
  },
  "language_info": {
   "codemirror_mode": {
    "name": "ipython",
    "version": 3
   },
   "file_extension": ".py",
   "mimetype": "text/x-python",
   "name": "python",
   "nbconvert_exporter": "python",
   "pygments_lexer": "ipython3",
   "version": "3.9.6"
  }
 },
 "nbformat": 4,
 "nbformat_minor": 2
}
