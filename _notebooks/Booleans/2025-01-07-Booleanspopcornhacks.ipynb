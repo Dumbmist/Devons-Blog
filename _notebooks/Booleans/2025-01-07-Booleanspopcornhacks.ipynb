{
 "cells": [
  {
   "cell_type": "raw",
   "metadata": {
    "vscode": {
     "languageId": "raw"
    }
   },
   "source": [
    "---\n",
    "layout: post\n",
    "title: Boolean Popcorn Hacks\n",
    "description: Popcorn Hacks \n",
    "categories: [Foundation]\n",
    "courses: { csse: {week: 1}, csp: {week: 1}, csa: {week: 1} }\n",
    "comments: true\n",
    "sticky_rank: 1\n",
    "---"
   ]
  },
  {
   "cell_type": "markdown",
   "metadata": {},
   "source": [
    "# Popcorn Hacks"
   ]
  },
  {
   "cell_type": "markdown",
   "metadata": {},
   "source": [
    "# Exercise 1"
   ]
  },
  {
   "cell_type": "markdown",
   "metadata": {},
   "source": [
    "Create a variable that holds a true or false value. Print a message that says \"This is true!\" if the value is true and \"This is false!\" if the value is false."
   ]
  },
  {
   "cell_type": "code",
   "execution_count": 27,
   "metadata": {
    "vscode": {
     "languageId": "javascript"
    }
   },
   "outputs": [
    {
     "data": {
      "application/javascript": "\nlet Shayan = false;  // Change this to false to test the other case\n\nif (Shayan === \"true\") {\n    console.log(\"THis is true\")\n} else {\n    console.log(\"THis is false. No durrr cuz you put false.\")\n}\n",
      "text/plain": [
       "<IPython.core.display.Javascript object>"
      ]
     },
     "metadata": {},
     "output_type": "display_data"
    }
   ],
   "source": [
    "%%js \n",
    "\n",
    "let Shayan = false;  // Change this to false to test the other case\n",
    "\n",
    "if (Shayan === \"true\") {\n",
    "    console.log(\"THis is true\")\n",
    "} else {\n",
    "    console.log(\"THis is false. No durrr cuz you put false.\")\n",
    "}"
   ]
  },
  {
   "cell_type": "markdown",
   "metadata": {},
   "source": [
    "# Exercise 2"
   ]
  },
  {
   "cell_type": "markdown",
   "metadata": {},
   "source": [
    "Write a program that checks if both conditions are true: the weather is nice (true) and it’s a weekend (true). Print \"Go outside!\" if both are true, and \"Stay inside!\" otherwise."
   ]
  },
  {
   "cell_type": "code",
   "execution_count": 28,
   "metadata": {
    "vscode": {
     "languageId": "javascript"
    }
   },
   "outputs": [
    {
     "data": {
      "application/javascript": "\nlet isNiceWeather = false;  // Change to false to test the other case\n\nif (isNiceWeather === true) {\n    console.log(\"Go outside Shayan\")\n} else {\n    console.log(\"The weather outside is frightful, but the fire is so delightful if we have no place to go let it snow let it snow. Stay inside\")\n}\n\nlet isWeekend = false;  // Change to false to test the other case\n\nif (isWeekend === true) {\n    console.log(\"No more school work\")\n} else {\n    console.log(\"Go do your homework beta\")\n}\n\n",
      "text/plain": [
       "<IPython.core.display.Javascript object>"
      ]
     },
     "metadata": {},
     "output_type": "display_data"
    }
   ],
   "source": [
    "%%js \n",
    "\n",
    "let isNiceWeather = false;  // Change to false to test the other case\n",
    "\n",
    "if (isNiceWeather === true) {\n",
    "    console.log(\"Go outside Shayan\")\n",
    "} else {\n",
    "    console.log(\"The weather outside is frightful, but the fire is so delightful if we have no place to go let it snow let it snow. Stay inside\")\n",
    "}\n",
    "\n",
    "let isWeekend = false;  // Change to false to test the other case\n",
    "\n",
    "if (isWeekend === true) {\n",
    "    console.log(\"No more school work\")\n",
    "} else {\n",
    "    console.log(\"Go do your homework beta\")\n",
    "}\n",
    "\n"
   ]
  },
  {
   "cell_type": "markdown",
   "metadata": {},
   "source": [
    "# Exercise 3"
   ]
  },
  {
   "cell_type": "markdown",
   "metadata": {},
   "source": [
    "Write a program that prints \"Time to go to the beach!\" if it's either sunny or the weekend. Use the OR (||) operator."
   ]
  },
  {
   "cell_type": "code",
   "execution_count": 30,
   "metadata": {
    "vscode": {
     "languageId": "javascript"
    }
   },
   "outputs": [
    {
     "data": {
      "application/javascript": "\nlet isSunny = true;  // Change to false to test the other case\nlet isWeekend = false;  // Change to true to test the other case\n\nif (isSunny === true) {\n    console.log(\"Time to go to the beach\")\n} else {\n    console.log(\"Stay inside\")\n}\n\nif (isWeekend === true) {\n    console.log(\"Time to go to the beach\")\n} else {\n    console.log(\"Stay inside\")\n}\n",
      "text/plain": [
       "<IPython.core.display.Javascript object>"
      ]
     },
     "metadata": {},
     "output_type": "display_data"
    }
   ],
   "source": [
    "%%js \n",
    "\n",
    "let isSunny = true;  // Change to false to test the other case\n",
    "let isWeekend = false;  // Change to true to test the other case\n",
    "\n",
    "if (isSunny === true) {\n",
    "    console.log(\"Time to go to the beach\")\n",
    "} else {\n",
    "    console.log(\"Stay inside\")\n",
    "}\n",
    "\n",
    "if (isWeekend === true) {\n",
    "    console.log(\"Time to go to the beach\")\n",
    "} else {\n",
    "    console.log(\"Stay inside\")\n",
    "}\n"
   ]
  },
  {
   "cell_type": "markdown",
   "metadata": {},
   "source": [
    "# Exercise 4"
   ]
  },
  {
   "cell_type": "markdown",
   "metadata": {},
   "source": [
    "Write a program that prints \"Not sunny today\" if isSunny is false, and \"It's sunny!\" if isSunny is true. Use the NOT (!) operator to invert the value of isSunny."
   ]
  },
  {
   "cell_type": "code",
   "execution_count": 31,
   "metadata": {
    "vscode": {
     "languageId": "javascript"
    }
   },
   "outputs": [
    {
     "data": {
      "application/javascript": "\nlet isSunny = false;  // Change to true to test the other case\n\nif (isSunny === true) {\n    console.log(\"It's sunny\")\n} else {\n    console.log(\"Not sunny today\")\n}\n",
      "text/plain": [
       "<IPython.core.display.Javascript object>"
      ]
     },
     "metadata": {},
     "output_type": "display_data"
    }
   ],
   "source": [
    "%%js \n",
    "\n",
    "let isSunny = false;  // Change to true to test the other case\n",
    "\n",
    "if (isSunny === true) {\n",
    "    console.log(\"It's sunny\")\n",
    "} else {\n",
    "    console.log(\"Not sunny today\")\n",
    "}"
   ]
  },
  {
   "cell_type": "markdown",
   "metadata": {},
   "source": [
    "# Exercise 5"
   ]
  },
  {
   "cell_type": "markdown",
   "metadata": {},
   "source": [
    "Create a program that checks if a user is both logged in (true) and has admin rights (true). Print \"Access granted!\" if both are true, and \"Access denied!\" if either is false."
   ]
  },
  {
   "cell_type": "code",
   "execution_count": 32,
   "metadata": {
    "vscode": {
     "languageId": "javascript"
    }
   },
   "outputs": [
    {
     "data": {
      "application/javascript": "\nlet isLoggedIn = true;  // Change to false to test the other case\nlet isAdmin = true;     // Change to false to test the other case\n\nif (isLoggedIn && isAdmin) {\n    console.log(\"Access granted!\");\n} else {\n    console.log(\"Access denied!\");\n}\n",
      "text/plain": [
       "<IPython.core.display.Javascript object>"
      ]
     },
     "metadata": {},
     "output_type": "display_data"
    }
   ],
   "source": [
    "%%js \n",
    "\n",
    "let isLoggedIn = true;  // Change to false to test the other case\n",
    "let isAdmin = true;     // Change to false to test the other case\n",
    "\n",
    "if (isLoggedIn && isAdmin) {\n",
    "    console.log(\"Access granted!\");\n",
    "} else {\n",
    "    console.log(\"Access denied!\");\n",
    "}\n"
   ]
  },
  {
   "cell_type": "markdown",
   "metadata": {},
   "source": [
    "# Exercise 6"
   ]
  },
  {
   "cell_type": "markdown",
   "metadata": {},
   "source": [
    "Use a ternary operator to decide whether a user is allowed access based on their age. If the age is 18 or above, print \"You are allowed access.\" If below 18, print \"Sorry, you are too young.\""
   ]
  },
  {
   "cell_type": "code",
   "execution_count": null,
   "metadata": {
    "vscode": {
     "languageId": "javascript"
    }
   },
   "outputs": [],
   "source": [
    "%%js\n",
    "\n",
    "let age = 16;  // Change this value to test different cases\n",
    "\n",
    "let accessMessage = age >= 18 ? \"You are allowed access.\" : \"Sorry, you are too young. Go get older\";\n",
    "\n",
    "console.log(accessMessage); \n",
    "\n"
   ]
  },
  {
   "cell_type": "markdown",
   "metadata": {},
   "source": [
    "# Exercise 7"
   ]
  },
  {
   "cell_type": "markdown",
   "metadata": {},
   "source": [
    "Write a program that checks if a user is both a VIP (true) and has a VIP ticket (true). If both conditions are true, print \"VIP Access granted!\" Otherwise, print \"Access denied!\""
   ]
  },
  {
   "cell_type": "code",
   "execution_count": 26,
   "metadata": {
    "vscode": {
     "languageId": "javascript"
    }
   },
   "outputs": [
    {
     "data": {
      "application/javascript": "\nlet isVIP = true;        // Change to false to test the other case\nlet hasVIPticket = false; // Change to true to test the other case\n\nif (isVIP && hasVIPticket) {\n    console.log(\"VIP Access granted!\");\n} else {\n    console.log(\"Access denied!\");\n}\n",
      "text/plain": [
       "<IPython.core.display.Javascript object>"
      ]
     },
     "metadata": {},
     "output_type": "display_data"
    }
   ],
   "source": [
    "%%js \n",
    "\n",
    "let isVIP = true;        // Change to false to test the other case\n",
    "let hasVIPticket = false; // Change to true to test the other case\n",
    "\n",
    "if (isVIP && hasVIPticket) {\n",
    "    console.log(\"VIP Access granted!\");\n",
    "} else {\n",
    "    console.log(\"Access denied!\");\n",
    "}\n"
   ]
  }
 ],
 "metadata": {
  "kernelspec": {
   "display_name": "Python 3",
   "language": "python",
   "name": "python3"
  },
  "language_info": {
   "codemirror_mode": {
    "name": "ipython",
    "version": 3
   },
   "file_extension": ".py",
   "mimetype": "text/x-python",
   "name": "python",
   "nbconvert_exporter": "python",
   "pygments_lexer": "ipython3",
   "version": "3.9.6"
  }
 },
 "nbformat": 4,
 "nbformat_minor": 2
}
