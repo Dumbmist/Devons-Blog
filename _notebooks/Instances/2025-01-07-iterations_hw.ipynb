{
 "cells": [
  {
   "cell_type": "code",
   "execution_count": null,
   "metadata": {},
   "outputs": [],
   "source": [
    "---\n",
    "comments: True\n",
    "layout: post\n",
    "title: Iteration Homework\n",
    "description: Iterations HW\n",
    "permalink: /csse/javascript/fundamentals/iteration/hw\n",
    "categories: [CSSE JavaScript Fundamentals]\n",
    "author: Andrew Ge, Ishan Shrivastava, Pratheep Natarajan, and Ruhaan Bansal\n",
    "---  "
   ]
  },
  {
   "cell_type": "markdown",
   "metadata": {},
   "source": [
    "### Exercise 1: Multiplication Table\n",
    "##### Write a JavaScript program to print the multiplication table for a given number."
   ]
  },
  {
   "cell_type": "markdown",
   "metadata": {},
   "source": [
    "##### Example:\n",
    "##### Input: 3\n",
    "##### Output:\n",
    "##### 3 x 1 = 3\n",
    "##### 3 x 2 = 6\n",
    "##### ...\n",
    "##### 3 x 10 = 30"
   ]
  },
  {
   "cell_type": "code",
   "execution_count": 4,
   "metadata": {
    "vscode": {
     "languageId": "javascript"
    }
   },
   "outputs": [
    {
     "data": {
      "application/javascript": "function multiplicationTable(number) {\n    \n    for (let i = 1; i <= 10; i++) {\n        \n        console.log(`${number} x ${i} = ${number * i}`);\n    }\n}\nmultiplicationTable(3);\n",
      "text/plain": [
       "<IPython.core.display.Javascript object>"
      ]
     },
     "metadata": {},
     "output_type": "display_data"
    }
   ],
   "source": [
    "%%js\n",
    "function multiplicationTable(number) { //function to input from numbers 1-10\n",
    "    \n",
    "    for (let i = 1; i <= 10; i++) {\n",
    "        \n",
    "        console.log(`${number} x ${i} = ${number * i}`);\n",
    "    }\n",
    "}\n",
    "multiplicationTable(3); //put number to multiply in place of 3"
   ]
  },
  {
   "cell_type": "markdown",
   "metadata": {},
   "source": [
    "### Exercise 2: Nested Loops\n",
    "##### Write a JavaScript program using nested loops to generate the following pattern:"
   ]
  },
  {
   "cell_type": "markdown",
   "metadata": {},
   "source": [
    "##### Output:\n",
    "##### 0\n",
    "##### 00\n",
    "##### 000\n",
    "##### 0000\n",
    "##### 00000"
   ]
  },
  {
   "cell_type": "code",
   "execution_count": 7,
   "metadata": {
    "vscode": {
     "languageId": "javascript"
    }
   },
   "outputs": [
    {
     "data": {
      "application/javascript": "\n// Outer loop: controls the number of rows (runs 5 times)\nfor (let i = 1; i <= 5; i++) {\n    \n    let Ruhaan = \"\"; // Initialize an empty string for storing zeros\n\n    // Inner loop: adds \"0\" to the string 'i' times\n    for (let x = 1; x <= i; x++) {\n        Ruhaan += \"0\"; // Append a zero to the string\n    }\n    \n    console.log(Ruhaan); // Print the current row of zeros\n}\n",
      "text/plain": [
       "<IPython.core.display.Javascript object>"
      ]
     },
     "metadata": {},
     "output_type": "display_data"
    }
   ],
   "source": [
    "%%js \n",
    "\n",
    "// controls rows (runs 5 times)\n",
    "for (let i = 1; i <= 5; i++) {\n",
    "    \n",
    "    let Ruhaan = \"\"; //  empty string\n",
    "\n",
    "    // nested loop to add 0's\n",
    "    for (let x = 1; x <= i; x++) {\n",
    "        Ruhaan += \"0\"; \n",
    "    }\n",
    "    \n",
    "    console.log(Ruhaan); // Print \n",
    "}\n"
   ]
  },
  {
   "cell_type": "markdown",
   "metadata": {},
   "source": []
  },
  {
   "cell_type": "markdown",
   "metadata": {},
   "source": [
    "### Challenge Exercise: Prime Numbers\n",
    "##### Write a JavaScript program to print all prime numbers between 1 and 50."
   ]
  },
  {
   "cell_type": "markdown",
   "metadata": {},
   "source": [
    "Explanation in the comments - get it? Because of those shorts you see? That surely deserves extra credit! Ruhaan, I know everything is ratgpt'd - show this to Ruhaan. My explanation is great!"
   ]
  },
  {
   "cell_type": "code",
   "execution_count": 2,
   "metadata": {
    "vscode": {
     "languageId": "javascript"
    }
   },
   "outputs": [
    {
     "data": {
      "application/javascript": "function isPrime(num) {\n    if (num <= 1) return false;\n    for (let i = 2; i <= Math.sqrt(num); i++) {\n        if (num % i === 0) return false;\n    }\n    return true;\n}\n\nfor (let i = 1; i <= 50; i++) {\n    if (isPrime(i)) {\n        console.log(i);\n    }\n}\n",
      "text/plain": [
       "<IPython.core.display.Javascript object>"
      ]
     },
     "metadata": {},
     "output_type": "display_data"
    }
   ],
   "source": [
    "\n",
    "function isPrime(num) {  // Function to check if a number is prime\n",
    "    if (num <= 1) return false; // Prime numbers greater than 1\n",
    "\n",
    "    // Loop from 2 to the sqr (sqr = square root) of num to check for factors\n",
    "    for (let i = 2; i <= Math.sqrt(num); i++) {  \n",
    "        if (num % i === 0) return false; // Prime numbers cannot be divisible by \"i\"\n",
    "    }\n",
    "    return true; // If no divisions occured, it's prime\n",
    "}\n",
    "\n",
    "\n",
    "for (let i = 1; i <= 50; i++) {  // Loop 1-50 and print prime ones\n",
    "    if (isPrime(i)) {  // isPrime function from before to check number\n",
    "        console.log(i); // Print the prime number\n",
    "    } //runs the actual thing\n",
    "}\n"
   ]
  },
  {
   "cell_type": "markdown",
   "metadata": {},
   "source": [
    "Or the cheesy way, done by using an array and for loop to print out all the prime numbers below 50 simply by cycling through the array."
   ]
  },
  {
   "cell_type": "code",
   "execution_count": 6,
   "metadata": {
    "vscode": {
     "languageId": "javascript"
    }
   },
   "outputs": [
    {
     "data": {
      "application/javascript": "const primeNumbersBelow50 = ['2', '3', '5', '7', '11', '13', '17', '19', '23', '29', '31', '37', '41', '43', '47'];\n\nfor (let i = 0; i < primeNumbersBelow50.length; i++){\n    console.log(primeNumbersBelow50[i]); \n}\n",
      "text/plain": [
       "<IPython.core.display.Javascript object>"
      ]
     },
     "metadata": {},
     "output_type": "display_data"
    }
   ],
   "source": [
    "%%js\n",
    "const primeNumbersBelow50 = ['2', '3', '5', '7', '11', '13', '17', '19', '23', '29', '31', '37', '41', '43', '47'];\n",
    "\n",
    "for (let i = 0; i < primeNumbersBelow50.length; i++){\n",
    "    console.log(primeNumbersBelow50[i]); \n",
    "}"
   ]
  },
  {
   "cell_type": "markdown",
   "metadata": {},
   "source": [
    "# End of Homework"
   ]
  }
 ],
 "metadata": {
  "kernelspec": {
   "display_name": "Python 3",
   "language": "python",
   "name": "python3"
  },
  "language_info": {
   "codemirror_mode": {
    "name": "ipython",
    "version": 3
   },
   "file_extension": ".py",
   "mimetype": "text/x-python",
   "name": "python",
   "nbconvert_exporter": "python",
   "pygments_lexer": "ipython3",
   "version": "3.9.6"
  }
 },
 "nbformat": 4,
 "nbformat_minor": 2
}
