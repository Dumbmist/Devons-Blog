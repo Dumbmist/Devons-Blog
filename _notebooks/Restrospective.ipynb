{
 "cells": [
  {
   "cell_type": "raw",
   "metadata": {
    "vscode": {
     "languageId": "raw"
    }
   },
   "source": [
    "---\n",
    "layout: post\n",
    "title: Restrospective\n",
    "description: Retrospective for Final.\n",
    "type: issues\n",
    "comments: true\n",
    "permalink: /_notebooks/Restrospective\n",
    "---"
   ]
  },
  {
   "cell_type": "markdown",
   "metadata": {},
   "source": [
    "### My CSSE Journey PT.1\n",
    "##### By: Devon Mistry"
   ]
  },
  {
   "cell_type": "markdown",
   "metadata": {},
   "source": [
    "### 1) My Take-aways"
   ]
  },
  {
   "cell_type": "markdown",
   "metadata": {},
   "source": [
    "### 1) My Take-aways"
   ]
  },
  {
   "cell_type": "markdown",
   "metadata": {},
   "source": [
    "This is not going to be some flowery essay or some detailed response because this is CSSE, and what do we do \"code, code, code\". So here are my main 5 takeaways:\n",
    "-  1) Both the difficulty of and how to set up a blog, connect a github repository to vscode, and the steps along the way to make everything function. \n",
    "    - This occured within the first few weeks of school and was very, very hard  - even with the detailed path given to us ( almost as hard as getting a 1 in this class, ha ha ha...)\n",
    "- 2) How to \"code\" in markdown, all of the functions in markdown, and how to apply it to a real life example (our blogs)\n",
    "    - Code below\n",
    "- 3) How to create a collaborative github repository, how to make a pull request, what gitpull is, and the difficulties of merging files/ multiple people working on one file.\n",
    "    - Through the lesson group project I collaborated with my teamates and learned how to perform the actions above.\n",
    "- 4) These lessons, both from my own and the other classmates information, I learned many the fundamentals and basics of code - from for loops to arrays - and these helped me (along with prior knowledge) helped with my RPG game and it's creation\n",
    "- 5) The rpg game was like an accumulation of all the knowledge I had learned throughout the unit but applying it to an object based game. The clear object combined with the knowledge I had learned to produce a product that both went beyond and delivered on the planning guide.\n",
    "- ###### Honorable Mention: Snake Game\n",
    "    - This was definitely the most fun I had the entire unit, I was deeply invested in creating new code to produce a product that I was happy with and was fun to play (both in difficulty and gamefunctions).\n",
    "    - This allowed me to win the style compitions, due to my additions of a maze that randomely generates each round, a golden apple that gives the snake a speed boost, a color changing snake, and more."
   ]
  },
  {
   "cell_type": "raw",
   "metadata": {
    "vscode": {
     "languageId": "raw"
    }
   },
   "source": [
    "# changes the text size and makes it bold - more #'s and the smaller the big text gets\n",
    "<br> = line break\n",
    "\"-\" = bullet points\n",
    "| = create a table"
   ]
  },
  {
   "cell_type": "markdown",
   "metadata": {},
   "source": [
    "### 2) RPG Game Tinkers"
   ]
  },
  {
   "cell_type": "markdown",
   "metadata": {
    "vscode": {
     "languageId": "raw"
    }
   },
   "source": [
    "In the Rpg game there was many adaptations of the code that I made, I will mention the most prominent and importnant ones - but the small details and code in my mind are the most important, maybe thats why without them the code can't function.\n",
    "- Keys\n",
    "    - I created an item file with an inventory and data file to go along with this. This allowed me to produce an item which the player can pick up by pressing the e key and it will be added to their inventory, both in local storage and in game\n",
    "- Keyslot\n",
    "    - This was my endgame feature. The idea behind in was that the player would insert a key into it and that would both remove a key from the players inventory and fill the keyslot. Once all keyslots were filled the game would end. This was the hardest part of the rpg game by far as the coding took so many intricate details, additional code, checks, debugging, and more. But I really wanted it to work and after a whole weekend of work nonstop I finally figured it out. Only to have bugs to fix.\n",
    "- Victory Screen\n",
    "    - The victory screen itself is nothing fancy, a black background with white text, but this was to polish up the game and make it so that the game felt complete and had an objective. Rather than filling the keyslots and sitting there with a complete game and nothing to do. This provided a final step for completion that both allowed for playing again and the work in progress minigame buttons.\n",
    "- Honorable mentions: \n",
    "    - movement fixes\n",
    "    - work in progress background collision/interactability\n",
    "    - the pick up function itself (with the e key)"
   ]
  },
  {
   "cell_type": "markdown",
   "metadata": {},
   "source": [
    "### 3) Break Down of Tinkers"
   ]
  },
  {
   "cell_type": "markdown",
   "metadata": {},
   "source": [
    "<div class=\"image-gallery\"> \n",
    "    <img src=\"https://i.imgur.com/aKZFrTm.jpeg\" alt=\"Chart\">\n",
    "</div>"
   ]
  },
  {
   "cell_type": "markdown",
   "metadata": {},
   "source": [
    "First breakdown: Keys (Using comments)"
   ]
  },
  {
   "cell_type": "code",
   "execution_count": null,
   "metadata": {
    "vscode": {
     "languageId": "javascript"
    }
   },
   "outputs": [],
   "source": [
    "function updateInventory() {\n",
    "    const inventory = document.getElementById(\"inventory\"); // Get the inventory element from the HTML\n",
    "    if (!inventory) return; // Exit if the inventory element doesn't exist (prevents errors)\n",
    "\n",
    "    inventory.innerHTML = \"\"; // Clears old inventory items before updating\n",
    "\n",
    "    inventoryItems.forEach(item => {\n",
    "        const slot = document.createElement(\"div\"); // Create a new inventory slot for each item\n",
    "        slot.className = \"inventory-slot\"; // Assign a class for styling\n",
    "\n",
    "        const img = document.createElement(\"img\"); // Create an image element to represent the item\n",
    "        img.src = imagePath + itemImages[item] || imagePath + \"/assets/images/default.png\"; // Set item image, with a default fallback\n",
    "        img.alt = item; // Set alternative text for accessibility\n",
    "        img.style.width = \"40px\"; // Set the image width\n",
    "        img.style.height = \"40px\"; // Set the image height\n",
    "\n",
    "        slot.appendChild(img); // Add the image to the inventory slot\n",
    "        inventory.appendChild(slot); // Add the slot to the inventory display\n",
    "    });\n",
    "}\n"
   ]
  },
  {
   "cell_type": "code",
   "execution_count": null,
   "metadata": {
    "vscode": {
     "languageId": "javascript"
    }
   },
   "outputs": [],
   "source": [
    "export function addItemToInventory(itemName) { //exported so it can be used in other code files\n",
    "    if (inventoryItems.length < 8) { // Limit inventory slots at 8\n",
    "        inventoryItems.push(itemName);\n",
    "        localStorage.setItem(\"inventoryItems\", JSON.stringify(inventoryItems)); //local storage to showcase how many items the player has\n",
    "    } else {\n",
    "        alert(\"Inventory full! NO MORE KEYS\"); //when there are 8 items\n",
    "    }\n",
    "    updateInventory();\n",
    "}"
   ]
  },
  {
   "cell_type": "code",
   "execution_count": null,
   "metadata": {
    "vscode": {
     "languageId": "javascript"
    }
   },
   "outputs": [],
   "source": [
    "setPlayerItem() { //this code is to change a npc's code ater they have collected two keys\n",
    "    this.itemsCollected++;\n",
    "    addItemToInventory(\"spoon\");\n",
    "    \n",
    "    if (this.itemsCollected === 2) { //two keys requirement\n",
    "        const questGiver = GameEnv.gameObjects.find(obj => obj.canvas?.id === 'Questgiver');\n",
    "        if (questGiver) {\n",
    "            if (this.keys == 0) {\n",
    "\n",
    "                questGiver.spriteData.greeting = \"Now you have collected the keys, go to one of the rare keyslots and press q to give them the key!\";\n",
    "                console.clear(); \n",
    "            } else {\n",
    "                questGiver.spriteData.greeting = \"You already have the key. Use it to escape!\"; //scrapped idea that was replaced by keyslot\n",
    "                this.displayStatus();\n",
    "            }\n",
    "        }\n",
    "    } else {\n",
    "        this.displayStatus();\n",
    "    }\n",
    "}"
   ]
  },
  {
   "cell_type": "markdown",
   "metadata": {},
   "source": [
    "This code calls upon the functions ive created in inventory.js to make the basic item/key functions occur."
   ]
  },
  {
   "cell_type": "code",
   "execution_count": null,
   "metadata": {
    "vscode": {
     "languageId": "javascript"
    }
   },
   "outputs": [],
   "source": [
    "removePlayerItem(item){\n",
    "    this.itemsCollected--;\n",
    "    removeItemFromInventory(item);\n",
    "}\n",
    "\n",
    "getPlayerItem() {\n",
    "    return this.itemsCollected;\n",
    "}\n",
    "\n",
    "addKey() {\n",
    "    this.keys++;\n",
    "    addItemToInventory(\"key\");\n",
    "}"
   ]
  },
  {
   "cell_type": "markdown",
   "metadata": {},
   "source": [
    "Second breakdown: KeySlot (the final boss)"
   ]
  },
  {
   "cell_type": "code",
   "execution_count": null,
   "metadata": {
    "vscode": {
     "languageId": "javascript"
    }
   },
   "outputs": [],
   "source": [
    "addKey() { //Handles the add key to the keyslot feature\n",
    "    if (this.isFilled) { // this.isFilled checks whether or not the keyslot is filled/ has 1 key (initially set to false)\n",
    "        console.log(\"KeySlot already filled!\");\n",
    "        return false;\n",
    "    }\n",
    "    \n",
    "    const inventoryItems = JSON.parse(localStorage.getItem(\"inventoryItems\") || \"[]\");\n",
    "    const hasKey = inventoryItems.includes(\"spoon\"); //checks to make sure the player has a key in their inventory - bug fix to prevent interaction without a key\n",
    "    \n",
    "    if (hasKey) {\n",
    "        inventoryItems.splice(inventoryItems.indexOf(\"spoon\"), 1); // makes player put in 1 key\n",
    "        localStorage.setItem(\"inventoryItems\", JSON.stringify(inventoryItems)); // local storage display of key insertion\n",
    "        removeItemFromInventory(\"spoon\"); //removes key from in-game inventory\n",
    "        this.isFilled = true; // changes boolean to stimulate filling the keyslot\n",
    "        console.log(\"KeySlot filled!\");\n",
    "        return true;\n",
    "    }\n",
    "    \n",
    "    console.log(\"No key in inventory!\"); //else, it returns this\n",
    "    return false;\n",
    "} "
   ]
  },
  {
   "cell_type": "code",
   "execution_count": null,
   "metadata": {
    "vscode": {
     "languageId": "javascript"
    }
   },
   "outputs": [],
   "source": [
    "checkVictoryCondition() {\n",
    "    if (GameEnv.victoryAchieved) return; // Stop checking if victory is already achieved to avoid redundant checks.\n",
    "\n",
    "    // Get all KeySlot objects from the game's list of objects.\n",
    "    const keyslots = GameEnv.gameObjects.filter(obj => obj instanceof KeySlot); \n",
    "\n",
    "    // Count how many of these KeySlot objects are filled.\n",
    "    const filledKeyslots = keyslots.filter(slot => slot.isFilled).length;\n",
    "\n",
    "    // Log the number of filled slots to the console for debugging.\n",
    "    console.log(`Filled keyslots: ${filledKeyslots}/${keyslots.length}`);\n",
    "\n",
    "    // Check if all keyslots are filled and if there is more than one keyslot.\n",
    "    if (filledKeyslots === keyslots.length && keyslots.length > 1) {\n",
    "        GameEnv.victoryAchieved = true; // Mark the game as won.\n",
    "        GameEnv.paused = true; // Pause the game to stop further actions - bug fix of consitant updates breaking victory screen\n",
    "        this.showVictoryScreen(); // Display the victory screen.\n",
    "    }\n",
    "}"
   ]
  },
  {
   "cell_type": "code",
   "execution_count": null,
   "metadata": {
    "vscode": {
     "languageId": "javascript"
    }
   },
   "outputs": [],
   "source": [
    "handleKeyDown(event) {\n",
    "    // Debug - Log the key that was pressed\n",
    "    console.log(`Key pressed: ${event.key}`);\n",
    "    \n",
    "    if (event.key === 'q') { // Check if the 'Q' key was pressed\n",
    "        console.log(\"Q key pressed - checking for player collision\");\n",
    "        \n",
    "        // Check if the player is colliding with a keyslot\n",
    "        if (this.collidedPlayer) {\n",
    "            console.log(\"Player is in range to use key\");\n",
    "            const success = this.addKey(); // Attempt to add a key to the keyslot\n",
    "            \n",
    "            if (!success && !this.isFilled) {\n",
    "                // If adding the key fails and the slot isn't already filled,\n",
    "                // show a message to the player that they need a key\n",
    "                this.showMessage(\"You need a key to unlock this!\");\n",
    "            }\n",
    "            \n",
    "            return; // Stop further execution\n",
    "        } else {\n",
    "            console.log(\"No player in range to interact with keyslot\");\n",
    "        }\n",
    "    }\n",
    "}\n"
   ]
  },
  {
   "cell_type": "markdown",
   "metadata": {},
   "source": [
    "third breakdown: Victory Screen"
   ]
  },
  {
   "cell_type": "code",
   "execution_count": null,
   "metadata": {
    "vscode": {
     "languageId": "javascript"
    }
   },
   "outputs": [],
   "source": [
    "showVictoryScreen() {\n",
    "    // Create the victory screen container\n",
    "    const victoryScreen = document.createElement('div');\n",
    "    Object.assign(victoryScreen.style, {\n",
    "        position: 'fixed', // Keeps the victory screen in place\n",
    "        top: '0',\n",
    "        left: '0',\n",
    "        width: '100vw', // Full-screen\n",
    "        height: '100vh', // Full-screen \n",
    "        backgroundColor: 'black', \n",
    "        color: 'green', \n",
    "        display: 'flex',\n",
    "        flexDirection: 'column', // Stack elements vertically\n",
    "        justifyContent: 'center', // Center items vertically\n",
    "        alignItems: 'center', // Center items horizontally\n",
    "        zIndex: '1000', // Ensures it appears above other elements\n",
    "        fontSize: '3rem', // Sets text size\n",
    "    });\n",
    "\n",
    "    // Create and style the victory message\n",
    "    const victoryText = document.createElement('h1');\n",
    "    victoryText.textContent = 'VICTORY!';\n",
    "    victoryText.style.marginBottom = '2rem'; // Spacing\n",
    "\n",
    "    // Create and style description of the victory\n",
    "    const victoryDesc = document.createElement('p');\n",
    "    victoryDesc.textContent = 'You have escaped the forest and saved ratGPT from the chest!';\n",
    "\n",
    "    // Create the restart button\n",
    "    const restartButton = document.createElement('button');\n",
    "    Object.assign(restartButton.style, {\n",
    "        marginTop: '2rem',\n",
    "        padding: '1rem 2rem',\n",
    "        fontSize: '1.2rem',\n",
    "        cursor: 'pointer',\n",
    "    });\n",
    "    restartButton.textContent = 'Play Again';\n",
    "    restartButton.onclick = () => location.reload(); // Reloads the page to restart the game\n",
    "\n",
    "    // Create the Pong game button - minigame work in progress\n",
    "    const PongButton = document.createElement('button');\n",
    "    Object.assign(PongButton.style, {\n",
    "        marginTop: '2rem',\n",
    "        padding: '1rem 2rem',\n",
    "        fontSize: '1.2rem',\n",
    "        cursor: 'pointer',\n",
    "    });\n",
    "    PongButton.textContent = 'Pong Game';\n",
    "    PongButton.onclick = () => {\n",
    "        window.location.href = 'pong.html'; // Redirects to the Pong game - not currently functioning\n",
    "    };\n",
    "\n",
    "    // Create the Snake game button\n",
    "    const SnakeButton = document.createElement('button');\n",
    "    Object.assign(SnakeButton.style, {\n",
    "        marginTop: '2rem',\n",
    "        padding: '1rem 2rem',\n",
    "        fontSize: '1.2rem',\n",
    "        cursor: 'pointer',\n",
    "    });\n",
    "    SnakeButton.textContent = 'Snake Remix';\n",
    "    SnakeButton.onclick = () => {\n",
    "        window.location.href = 'snake.html'; // Redirects to the Snake game - not currently functioning\n",
    "    };\n",
    "\n",
    "    // Add all elements to the victory screen\n",
    "    victoryScreen.append(victoryText, victoryDesc, restartButton, PongButton, SnakeButton);\n",
    "    document.body.appendChild(victoryScreen); // Add the victory screen to the page\n",
    "\n",
    "    // Clear any existing timeout for victory screen (if applicable)\n",
    "    clearTimeout(this.victoryScreenTimeout);\n",
    "};\n"
   ]
  },
  {
   "cell_type": "code",
   "execution_count": null,
   "metadata": {
    "vscode": {
     "languageId": "javascript"
    }
   },
   "outputs": [],
   "source": [
    "update() {\n",
    "    // Update begins by drawing the object\n",
    "    this.draw();\n",
    "    \n",
    "    // Check for collisions with players\n",
    "    this.checkAllPlayerCollisions();\n",
    "    \n",
    "    if (GameEnv.victoryAchieved) return; // bug fix - prevents the update spam of this.checkVictoryConditon which before would prevent the victory screen from loading\n",
    "\n",
    "    this.checkVictoryCondition(); // calls on the function to allow this.isFilled to run and to check for it the game is won\n",
    "    \n",
    "    // Visual indicator for collision - debugging\n",
    "    if (GameEnv.debugging && this.collidedPlayer) {\n",
    "        this.ctx.strokeStyle = 'red';\n",
    "        this.ctx.lineWidth = 2;\n",
    "        this.ctx.strokeRect(0, 0, this.canvas.width, this.canvas.height);\n",
    "    }"
   ]
  },
  {
   "cell_type": "markdown",
   "metadata": {},
   "source": [
    "### 4) Night at the Museum feedback and performance"
   ]
  },
  {
   "cell_type": "markdown",
   "metadata": {},
   "source": [
    "### 5) Uncharted territory"
   ]
  },
  {
   "cell_type": "markdown",
   "metadata": {},
   "source": [
    "This will discuss the bullet points that surround point 5\n",
    "\n",
    "1) Intrest. Evan and West's project was really intresting, considering their impressive game design and role as former members of our lesson group. They are intelligent members and consitantly checked up on what they were doing and how they did some of their stuff to learn and improve my game. Such as movement fixes which Evan taught me why the code was faulty and how to fix it. During N@TM I even left an issue on their blog to both congradulate and help them in the future.\n",
    "2) This section was already beggining when my mind went off into the whirlwind of possibilities this game could have. Focusing on the minigames as the next steps into CSSE 2 as I have the code for them and just need to set them up in the game, possibly as npcs which direct them to the page instead of just buttons on the victory screen. Additionally, graphics can be cleaned up and the background can be custom made to suit our game needs even better as right now dora is walking on trees.\n",
    "3) I know I am very far from a complete coder, but I have learned a lot, both in this class and outside which has helped ease me into this class and allow me to succeed by implementing the basics into my code. I know I am good at coming up with game ideas and new ways to improve gameplay, however managing the small niches and debugging is far from my strong suit. Leaving me to sometimes use our trusty friends rachit and chatGPT.\n",
    "4) This project went really well. Me and Nikhil worked hard together with little procrastination. We solved our issues together and never got caught up on struggling on the same thing. We executed our plans in the planning document and even went beyond to add more features."
   ]
  },
  {
   "cell_type": "markdown",
   "metadata": {},
   "source": [
    "##### The moment of truth...\n",
    "The moral dilema of choosing our self-grade! If we give ourselves a hundred, we will seem like know it alls, but we did do everything...\n",
    "\n",
    "- I would honestly give myself a 4 6/7 or a 5, I believe that I completed everything in the slack message during this jupityr notebook retrospective and was truly invested in my game. I loved spending time creating an actual game, something you think only adults can do and to see it work and be complete with a game objective was pure joy. I covered all 5 bullet points extensively and fully understood everything we learned, and will gladly give more explanation if this wasn't apparent. The 1/7 missing is maybe because I wasn't a full 24 hours ahead with my slack message, but other than that, I met and went above and beyond in all catagories - winning style compitions for the snake game, getting a rare 0.93, and more. "
   ]
  }
 ],
 "metadata": {
  "language_info": {
   "name": "python"
  }
 },
 "nbformat": 4,
 "nbformat_minor": 2
}
