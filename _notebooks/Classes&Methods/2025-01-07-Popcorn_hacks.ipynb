{
 "cells": [
  {
   "cell_type": "raw",
   "metadata": {
    "vscode": {
     "languageId": "raw"
    }
   },
   "source": [
    "---\n",
    "layout: post\n",
    "title: Popcorn Hacks\n",
    "description:  Popcorn Hacks for lessons.\n",
    "type: issues \n",
    "comments: true\n",
    "---"
   ]
  },
  {
   "cell_type": "markdown",
   "metadata": {},
   "source": [
    "# JavaScript Classes and Methods - Interactive Popcorns \n",
    "In this notebook, you will learn about classes and methods in JavaScript. During the lesson, use these to enhance your understanding of clases and methods\n",
    "### \n",
    "- **Objectivs**: Do something - Change Later\n",
    "- **How**:\n",
    "\n"
   ]
  },
  {
   "cell_type": "code",
   "execution_count": 4,
   "metadata": {
    "vscode": {
     "languageId": "javascript"
    }
   },
   "outputs": [
    {
     "ename": "IndentationError",
     "evalue": "unindent does not match any outer indentation level (<tokenize>, line 48)",
     "output_type": "error",
     "traceback": [
      "\u001b[0;36m  File \u001b[0;32m<tokenize>:48\u001b[0;36m\u001b[0m\n\u001b[0;31m    }\u001b[0m\n\u001b[0m    ^\u001b[0m\n\u001b[0;31mIndentationError\u001b[0m\u001b[0;31m:\u001b[0m unindent does not match any outer indentation level\n"
     ]
    }
   ],
   "source": [
    "<html lang=\"en\">\n",
    "<head>\n",
    "  <meta charset=\"UTF-8\">\n",
    "  <meta name=\"viewport\" content=\"width=device-width, initial-scale=1.0\">\n",
    "  <title>Popcorn Hack</title>\n",
    "  <style>\n",
    "    body {\n",
    "      margin: 0;\n",
    "      padding: 0;\n",
    "      overflow: auto; /* Enable scrolling */\n",
    "      font-family: Arial, sans-serif;\n",
    "      background: #ffffff; /* Popcorn vibe! */\n",
    "    }\n",
    "\n",
    "    #startButton {\n",
    "      position: fixed;\n",
    "      bottom: 20px;\n",
    "      left: 50%;\n",
    "      transform: translateX(-50%);\n",
    "      padding: 10px 20px;\n",
    "      font-size: 18px;\n",
    "      background: #ffffff;\n",
    "      color: #000;\n",
    "      border: none;\n",
    "      border-radius: 5px;\n",
    "      cursor: pointer;\n",
    "      box-shadow: 0px 4px 6px rgba(0, 0, 0, 0.2);\n",
    "    }\n",
    "\n",
    "    #startButton:hover {\n",
    "      background: #e8a400;\n",
    "    }\n",
    "\n",
    "    .kernel {\n",
    "      position: absolute;\n",
    "      width: 20px;\n",
    "      height: 20px;\n",
    "      background: #fff;\n",
    "      border-radius: 50%;\n",
    "      box-shadow: 0 2px 5px rgba(0, 0, 0, 0.2);\n",
    "      animation: pop 1.5s ease-in-out forwards;\n",
    "    }\n",
    "\n",
    "    @keyframes pop {\n",
    "      0% {\n",
    "        transform: scale(0.5) translateY(0);\n",
    "        opacity: 1;\n",
    "      }\n",
    "      50% {\n",
    "        transform: scale(1.2) translateY(-150px);\n",
    "      }\n",
    "      100% {\n",
    "        transform: scale(1) translateY(300px);\n",
    "        opacity: 0;\n",
    "      }\n",
    "    }\n",
    "  </style>\n",
    "</head>\n",
    "<body>\n",
    "\n",
    "  <button id=\"startButton\">Start Popping!</button>\n",
    "\n",
    "  <script>\n",
    "    function createKernel() {\n",
    "      // Create a new popcorn kernel\n",
    "      const kernel = document.createElement(\"div\");\n",
    "      kernel.classList.add(\"kernel\");\n",
    "\n",
    "      // Randomize its position\n",
    "      kernel.style.left = Math.random() * window.innerWidth + \"px\";\n",
    "      kernel.style.top = Math.random() * (window.innerHeight / 2) + \"px\";\n",
    "\n",
    "      // Add the kernel to the body\n",
    "      document.body.appendChild(kernel);\n",
    "\n",
    "      // Remove the kernel after animation ends\n",
    "      setTimeout(() => kernel.remove(), 1500);\n",
    "    }\n",
    "\n",
    "    function startPopping() {\n",
    "      let popCount = 0;\n",
    "      const interval = setInterval(() => {\n",
    "        createKernel(); // Create a popcorn kernel\n",
    "        popCount++;\n",
    "        if (popCount > 30) clearInterval(interval); // Stop after 30 kernels\n",
    "      }, 200);\n",
    "    }\n",
    "\n",
    "    // Attach the event to the button\n",
    "    document.getElementById(\"startButton\").addEventListener(\"click\", startPopping);\n",
    "  </script>\n",
    "</body>\n",
    "</html>\n"
   ]
  },
  {
   "cell_type": "markdown",
   "metadata": {},
   "source": [
    "New popcorn hacks"
   ]
  },
  {
   "cell_type": "code",
   "execution_count": 34,
   "metadata": {
    "vscode": {
     "languageId": "javascript"
    }
   },
   "outputs": [
    {
     "data": {
      "application/javascript": "function Rectangle(width, height) {\n    this.width = width;\n    this.height = height;\n  }\n\n  Rectangle.prototype.calcArea = function() {\n    return this.width * this.height;\n  };\n  \n  Rectangle.prototype.getSides = function() {\n    return [this.width, this.height];\n  };\n\n  const rect = new Rectangle(30, 10);\n  \n  console.log(rect.calcArea());\n  console.log(rect.getSides()); \n  \n",
      "text/plain": [
       "<IPython.core.display.Javascript object>"
      ]
     },
     "metadata": {},
     "output_type": "display_data"
    }
   ],
   "source": [
    "%%js\n",
    "function Rectangle(width, height) {\n",
    "    this.width = width;\n",
    "    this.height = height;\n",
    "  }\n",
    "\n",
    "  Rectangle.prototype.calcArea = function() {\n",
    "    return this.width * this.height;\n",
    "  };\n",
    "  \n",
    "  Rectangle.prototype.getSides = function() {\n",
    "    return [this.width, this.height];\n",
    "  };\n",
    "\n",
    "  const rect = new Rectangle(30, 10);\n",
    "  \n",
    "  console.log(rect.calcArea());\n",
    "  console.log(rect.getSides()); \n",
    "  "
   ]
  },
  {
   "cell_type": "code",
   "execution_count": 35,
   "metadata": {
    "vscode": {
     "languageId": "javascript"
    }
   },
   "outputs": [
    {
     "data": {
      "application/javascript": "function Rectangle(width, height) {\n    this.width = width;\n    this.height = height;\n  }\n\n  Rectangle.prototype.calcArea = function() {\n    return this.width * this.height;\n  };\n  \n  Rectangle.prototype.getSides = function() {\n    return [this.width, this.height];\n  };\n  \n  const rect = new Rectangle(40, 100);\n  \n  console.log(rect.calcArea()); \n  console.log(rect.getSides()); \n  \n",
      "text/plain": [
       "<IPython.core.display.Javascript object>"
      ]
     },
     "metadata": {},
     "output_type": "display_data"
    }
   ],
   "source": [
    "%%js\n",
    "function Rectangle(width, height) {\n",
    "    this.width = width;\n",
    "    this.height = height;\n",
    "  }\n",
    "\n",
    "  Rectangle.prototype.calcArea = function() {\n",
    "    return this.width * this.height;\n",
    "  };\n",
    "  \n",
    "  Rectangle.prototype.getSides = function() {\n",
    "    return [this.width, this.height];\n",
    "  };\n",
    "  \n",
    "  const rect = new Rectangle(40, 100);\n",
    "  \n",
    "  console.log(rect.calcArea()); \n",
    "  console.log(rect.getSides()); \n",
    "  "
   ]
  },
  {
   "cell_type": "code",
   "execution_count": 37,
   "metadata": {
    "vscode": {
     "languageId": "javascript"
    }
   },
   "outputs": [
    {
     "data": {
      "application/javascript": "function Rectangle(width, height) {\n  this.width = width;\n  this.height = height;\n}\n\nRectangle.prototype.calcArea = function() {\n  return this.width * this.height;\n};\n\nRectangle.prototype.getSides = function() {\n  return [this.width, this.height];\n};\n\nfunction findRectanglesWithArea(targetArea) {\n  const pairs = [];\n  for (let width = 1; width <= targetArea; width++) {\n    if (targetArea % width === 0) {\n      const height = targetArea / width;\n      pairs.push([width, height]);\n    }\n  }\n  return pairs;\n}\n\nconst area48Pairs = findRectanglesWithArea(48);\n\nconsole.log('Pairs of dimensions that give an area of 48 units²:');\narea48Pairs.forEach(pair => {\n  console.log(`Width: ${pair[0]}, Height: ${pair[1]}`);\n});\n",
      "text/plain": [
       "<IPython.core.display.Javascript object>"
      ]
     },
     "metadata": {},
     "output_type": "display_data"
    }
   ],
   "source": [
    "%%js\n",
    "function Rectangle(width, height) {\n",
    "  this.width = width;\n",
    "  this.height = height;\n",
    "}\n",
    "\n",
    "Rectangle.prototype.calcArea = function() {\n",
    "  return this.width * this.height;\n",
    "};\n",
    "\n",
    "Rectangle.prototype.getSides = function() {\n",
    "  return [this.width, this.height];\n",
    "};\n",
    "\n",
    "function findRectanglesWithArea(targetArea) {\n",
    "  const pairs = [];\n",
    "  for (let width = 1; width <= targetArea; width++) {\n",
    "    if (targetArea % width === 0) {\n",
    "      const height = targetArea / width;\n",
    "      pairs.push([width, height]);\n",
    "    }\n",
    "  }\n",
    "  return pairs;\n",
    "}\n",
    "\n",
    "const area48Pairs = findRectanglesWithArea(48);\n",
    "\n",
    "console.log('Pairs of dimensions that give an area of 48 units²:');\n",
    "area48Pairs.forEach(pair => {\n",
    "  console.log(`Width: ${pair[0]}, Height: ${pair[1]}`);\n",
    "});\n"
   ]
  },
  {
   "cell_type": "code",
   "execution_count": 38,
   "metadata": {
    "vscode": {
     "languageId": "javascript"
    }
   },
   "outputs": [
    {
     "data": {
      "application/javascript": "class Rectangle {\n    constructor(width, height) {\n        this.width = width;\n        this.height = height;\n    }\n\n    getArea() {\n        return this.width * this.height;\n    }\n\n    getSides() {\n        return [this.width, this.height];\n    }\n\n    getPerimeter() {\n        return 2 * (this.width + this.height);\n    }\n}\n\nconst rect = new Rectangle(10, 5);\nconsole.log(rect.getPerimeter());  // Output should be 30\n",
      "text/plain": [
       "<IPython.core.display.Javascript object>"
      ]
     },
     "metadata": {},
     "output_type": "display_data"
    }
   ],
   "source": [
    "%%js \n",
    "class Rectangle {\n",
    "    constructor(width, height) {\n",
    "        this.width = width;\n",
    "        this.height = height;\n",
    "    }\n",
    "\n",
    "    getArea() {\n",
    "        return this.width * this.height;\n",
    "    }\n",
    "\n",
    "    getSides() {\n",
    "        return [this.width, this.height];\n",
    "    }\n",
    "\n",
    "    getPerimeter() {\n",
    "        return 2 * (this.width + this.height);\n",
    "    }\n",
    "}\n",
    "\n",
    "const rect = new Rectangle(10, 5);\n",
    "console.log(rect.getPerimeter());  // Output should be 30\n"
   ]
  },
  {
   "cell_type": "code",
   "execution_count": 40,
   "metadata": {
    "vscode": {
     "languageId": "javascript"
    }
   },
   "outputs": [
    {
     "data": {
      "application/javascript": "class Square {\n    constructor(sideLength) {\n        this.sideLength = sideLength;\n    }\n\n    getDiagonal() {\n        return this.sideLength * Math.sqrt(2);\n    }\n}\n\nconst square = new Square(5);\nconsole.log(square.getDiagonal());  // Output should be 7.07\n",
      "text/plain": [
       "<IPython.core.display.Javascript object>"
      ]
     },
     "metadata": {},
     "output_type": "display_data"
    }
   ],
   "source": [
    "%%js\n",
    "class Square {\n",
    "    constructor(sideLength) {\n",
    "        this.sideLength = sideLength;\n",
    "    }\n",
    "\n",
    "    getDiagonal() {\n",
    "        return this.sideLength * Math.sqrt(2);\n",
    "    }\n",
    "}\n",
    "\n",
    "const square = new Square(5);\n",
    "console.log(square.getDiagonal()); \n"
   ]
  }
 ],
 "metadata": {
  "kernelspec": {
   "display_name": "Python 3",
   "language": "python",
   "name": "python3"
  },
  "language_info": {
   "codemirror_mode": {
    "name": "ipython",
    "version": 3
   },
   "file_extension": ".py",
   "mimetype": "text/x-python",
   "name": "python",
   "nbconvert_exporter": "python",
   "pygments_lexer": "ipython3",
   "version": "3.9.6"
  }
 },
 "nbformat": 4,
 "nbformat_minor": 2
}
